{
 "cells": [
  {
   "cell_type": "markdown",
   "metadata": {},
   "source": [
    "#### Import Modules"
   ]
  },
  {
   "cell_type": "code",
   "execution_count": 48,
   "metadata": {
    "scrolled": true
   },
   "outputs": [],
   "source": [
    "import numpy as np\n",
    "import pandas as pd\n",
    "import seaborn as sns\n",
    "import matplotlib.pyplot as plt\n",
    "from xgboost import XGBClassifier\n",
    "from sklearn.pipeline import Pipeline\n",
    "from sklearn.preprocessing import LabelEncoder, OneHotEncoder, label_binarize, StandardScaler, MinMaxScaler\n",
    "from sklearn.model_selection import train_test_split, cross_val_score, GridSearchCV, RandomizedSearchCV, KFold, StratifiedKFold\n",
    "from sklearn.tree import DecisionTreeClassifier\n",
    "from sklearn.linear_model import LogisticRegression, RidgeClassifier\n",
    "from sklearn.svm import SVC\n",
    "from sklearn.ensemble import ExtraTreesClassifier, RandomForestClassifier, BaggingClassifier\n",
    "from sklearn.ensemble import GradientBoostingClassifier, VotingClassifier, StackingClassifier\n",
    "from sklearn.metrics import accuracy_score, precision_score, recall_score, f1_score, precision_recall_curve\n",
    "from sklearn.metrics import mean_squared_error, classification_report, confusion_matrix, roc_curve\n",
    "from mlxtend.plotting import plot_learning_curves\n",
    "from mlxtend.plotting import plot_decision_regions\n",
    "import warnings\n",
    "\n",
    "warnings.filterwarnings(\"ignore\", category=UserWarning)\n",
    "warnings.filterwarnings(\"ignore\", category=RuntimeWarning)"
   ]
  },
  {
   "cell_type": "markdown",
   "metadata": {},
   "source": [
    "### Data Cleaning and Preprocessing"
   ]
  },
  {
   "cell_type": "markdown",
   "metadata": {},
   "source": [
    "Handling missing values and explore the data."
   ]
  },
  {
   "cell_type": "code",
   "execution_count": 49,
   "metadata": {},
   "outputs": [
    {
     "name": "stdout",
     "output_type": "stream",
     "text": [
      "\n",
      "Number of instances: 193\n",
      "Number of columns: 31\n",
      "\n",
      "   Unnamed: 0            name  landmass  zone  area  population  language  \\\n",
      "0           0         Albania         3     1    29           3         6   \n",
      "1           1         Algeria         4     1  2388          20         8   \n",
      "2           2  American-Samoa         6     3     0           0         1   \n",
      "3           3         Andorra         3     1     0           0         6   \n",
      "4           4          Angola         4     2  1247           7        10   \n",
      "\n",
      "   religion  bars  stripes  ...  saltires  quarters  sunstars  crescent  \\\n",
      "0         6     0        0  ...         0         0         1         0   \n",
      "1         2     2        0  ...         0         0         1         1   \n",
      "2         1     0        0  ...         0         0         0         0   \n",
      "3         0     3        0  ...         0         0         0         0   \n",
      "4         5     0        2  ...         0         0         1         0   \n",
      "\n",
      "   triangle  icon  animate  text topleft  botright  \n",
      "0         0     0        1     0     red       red  \n",
      "1         0     0        0     0   green     white  \n",
      "2         1     1        1     0    blue       red  \n",
      "3         0     0        0     0    blue       red  \n",
      "4         0     1        0     0     red     black  \n",
      "\n",
      "[5 rows x 31 columns]\n",
      "\n",
      "<class 'pandas.core.frame.DataFrame'>\n",
      "RangeIndex: 193 entries, 0 to 192\n",
      "Data columns (total 31 columns):\n",
      " #   Column      Non-Null Count  Dtype \n",
      "---  ------      --------------  ----- \n",
      " 0   Unnamed: 0  193 non-null    int64 \n",
      " 1   name        193 non-null    object\n",
      " 2   landmass    193 non-null    int64 \n",
      " 3   zone        193 non-null    int64 \n",
      " 4   area        193 non-null    int64 \n",
      " 5   population  193 non-null    int64 \n",
      " 6   language    193 non-null    int64 \n",
      " 7   religion    193 non-null    int64 \n",
      " 8   bars        193 non-null    int64 \n",
      " 9   stripes     193 non-null    int64 \n",
      " 10  colours     193 non-null    int64 \n",
      " 11  red         193 non-null    int64 \n",
      " 12  green       193 non-null    int64 \n",
      " 13  blue        193 non-null    int64 \n",
      " 14  gold        193 non-null    int64 \n",
      " 15  white       193 non-null    int64 \n",
      " 16  black       193 non-null    int64 \n",
      " 17  orange      193 non-null    int64 \n",
      " 18  mainhue     193 non-null    object\n",
      " 19  circles     193 non-null    int64 \n",
      " 20  crosses     193 non-null    int64 \n",
      " 21  saltires    193 non-null    int64 \n",
      " 22  quarters    193 non-null    int64 \n",
      " 23  sunstars    193 non-null    int64 \n",
      " 24  crescent    193 non-null    int64 \n",
      " 25  triangle    193 non-null    int64 \n",
      " 26  icon        193 non-null    int64 \n",
      " 27  animate     193 non-null    int64 \n",
      " 28  text        193 non-null    int64 \n",
      " 29  topleft     193 non-null    object\n",
      " 30  botright    193 non-null    object\n",
      "dtypes: int64(27), object(4)\n",
      "memory usage: 46.9+ KB\n",
      "None\n",
      "\n",
      "Unnamed: 0    0\n",
      "name          0\n",
      "landmass      0\n",
      "zone          0\n",
      "area          0\n",
      "population    0\n",
      "language      0\n",
      "religion      0\n",
      "bars          0\n",
      "stripes       0\n",
      "colours       0\n",
      "red           0\n",
      "green         0\n",
      "blue          0\n",
      "gold          0\n",
      "white         0\n",
      "black         0\n",
      "orange        0\n",
      "mainhue       0\n",
      "circles       0\n",
      "crosses       0\n",
      "saltires      0\n",
      "quarters      0\n",
      "sunstars      0\n",
      "crescent      0\n",
      "triangle      0\n",
      "icon          0\n",
      "animate       0\n",
      "text          0\n",
      "topleft       0\n",
      "botright      0\n",
      "dtype: int64\n",
      "\n"
     ]
    }
   ],
   "source": [
    "def file():\n",
    "    df = pd.read_csv(\"flag.data\")   \n",
    "    df1 = pd.read_csv(\"flag columns name.txt\")\n",
    "    df.columns = df1.columns\n",
    "    #Combine columns with data into a new csv file\n",
    "    #df.to_csv(\"flag.csv\")\n",
    "\n",
    "def handleMis():    #Handling missing values:\n",
    "    #Since only blank fields and NA are recognised as missing values, include all possible missing values  \n",
    "    misVal = [\"Na\",\"n/a\", \"na\", \"-\", \"?\"]\n",
    "    df = pd.read_csv(\"flag.csv\", na_values = misVal, sep = \",\")\n",
    "    df1 = df.copy() #create copy for preprocessing\n",
    "    print(\"\\nNumber of instances: {}\".format(df.shape[0]))    #find number of rows and columns\n",
    "    print(\"Number of columns: {}\\n\".format(df.shape[1]))\n",
    "    df1.replace(misVal, np.NaN, inplace=True)     #replace all missing values as NaN \n",
    "    df1.columns = df1.columns.str.strip()\n",
    "    print(\"{}\\n\".format(df1.head()))     \n",
    "    print(\"{}\\n\".format(df1.info()))             #check columns with non-numerical values\n",
    "    print(\"{}\\n\".format(df1.isna().sum()))       #check if there is any null values \n",
    "    #There is no missing value in this dataset. \n",
    "    df1.drop([\"Unnamed: 0\"], axis=1, inplace=True)  #Drop the column Unnamed\n",
    "    \n",
    "    return df1\n",
    "\n",
    "file()\n",
    "df1 = handleMis()"
   ]
  },
  {
   "cell_type": "markdown",
   "metadata": {},
   "source": [
    "Drop duplicated columns."
   ]
  },
  {
   "cell_type": "code",
   "execution_count": 50,
   "metadata": {},
   "outputs": [
    {
     "name": "stdout",
     "output_type": "stream",
     "text": [
      "Empty DataFrame\n",
      "Columns: [name, landmass, zone, area, population, language, religion, bars, stripes, colours, red, green, blue, gold, white, black, orange, mainhue, circles, crosses, saltires, quarters, sunstars, crescent, triangle, icon, animate, text, topleft, botright]\n",
      "Index: []\n",
      "\n",
      "[0 rows x 30 columns]\n",
      "\n",
      "Number of Duplicated rows:0\n",
      "\n"
     ]
    }
   ],
   "source": [
    "def dup():\n",
    "    print(\"{}\\n\".format(df1[df1.duplicated()]))     #Check for duplicated rows:\n",
    "    print(\"Number of Duplicated rows:{}\\n\".format(df1.duplicated().sum()))\n",
    "    #There are no duplicated rows, No need df1.drop_duplicates().\n",
    "    \n",
    "dup()"
   ]
  },
  {
   "cell_type": "markdown",
   "metadata": {},
   "source": [
    "We can see that there are very little data of 4=German, 9=Japanese/Turkish/Finnish/Magyar, 7=Others, 5=Slavic. This might result in issue for the model when we split the data as the test data might not or include very little of these classes."
   ]
  },
  {
   "cell_type": "code",
   "execution_count": 51,
   "metadata": {},
   "outputs": [
    {
     "data": {
      "text/plain": [
       "Text(0.5, 1.0, 'Frequency of the target label')"
      ]
     },
     "execution_count": 51,
     "metadata": {},
     "output_type": "execute_result"
    },
    {
     "data": {
      "image/png": "[encoded data removed]",
      "text/plain": [
       "<Figure size 432x288 with 1 Axes>"
      ]
     },
     "metadata": {
      "needs_background": "light"
     },
     "output_type": "display_data"
    }
   ],
   "source": [
    "df1[\"language\"].value_counts().plot.bar(color = \"r\")  #frequency of target label\n",
    "plt.title(\"Frequency of the target label\", color = \"r\") "
   ]
  },
  {
   "cell_type": "code",
   "execution_count": 52,
   "metadata": {
    "scrolled": true
   },
   "outputs": [
    {
     "data": {
      "text/html": [
       "<div>\n",
       "<style scoped>\n",
       "    .dataframe tbody tr th:only-of-type {\n",
       "        vertical-align: middle;\n",
       "    }\n",
       "\n",
       "    .dataframe tbody tr th {\n",
       "        vertical-align: top;\n",
       "    }\n",
       "\n",
       "    .dataframe thead th {\n",
       "        text-align: right;\n",
       "    }\n",
       "</style>\n",
       "<table border=\"1\" class=\"dataframe\">\n",
       "  <thead>\n",
       "    <tr style=\"text-align: right;\">\n",
       "      <th></th>\n",
       "      <th>landmass</th>\n",
       "      <th>zone</th>\n",
       "      <th>area</th>\n",
       "      <th>population</th>\n",
       "      <th>language</th>\n",
       "      <th>religion</th>\n",
       "      <th>bars</th>\n",
       "      <th>stripes</th>\n",
       "      <th>colours</th>\n",
       "      <th>red</th>\n",
       "      <th>...</th>\n",
       "      <th>circles</th>\n",
       "      <th>crosses</th>\n",
       "      <th>saltires</th>\n",
       "      <th>quarters</th>\n",
       "      <th>sunstars</th>\n",
       "      <th>crescent</th>\n",
       "      <th>triangle</th>\n",
       "      <th>icon</th>\n",
       "      <th>animate</th>\n",
       "      <th>text</th>\n",
       "    </tr>\n",
       "  </thead>\n",
       "  <tbody>\n",
       "    <tr>\n",
       "      <th>count</th>\n",
       "      <td>193.000000</td>\n",
       "      <td>193.000000</td>\n",
       "      <td>193.000000</td>\n",
       "      <td>193.000000</td>\n",
       "      <td>193.000000</td>\n",
       "      <td>193.000000</td>\n",
       "      <td>193.000000</td>\n",
       "      <td>193.000000</td>\n",
       "      <td>193.000000</td>\n",
       "      <td>193.000000</td>\n",
       "      <td>...</td>\n",
       "      <td>193.000000</td>\n",
       "      <td>193.000000</td>\n",
       "      <td>193.000000</td>\n",
       "      <td>193.000000</td>\n",
       "      <td>193.000000</td>\n",
       "      <td>193.000000</td>\n",
       "      <td>193.000000</td>\n",
       "      <td>193.000000</td>\n",
       "      <td>193.000000</td>\n",
       "      <td>193.000000</td>\n",
       "    </tr>\n",
       "    <tr>\n",
       "      <th>mean</th>\n",
       "      <td>3.564767</td>\n",
       "      <td>2.217617</td>\n",
       "      <td>700.316062</td>\n",
       "      <td>23.305699</td>\n",
       "      <td>5.316062</td>\n",
       "      <td>2.191710</td>\n",
       "      <td>0.455959</td>\n",
       "      <td>1.544041</td>\n",
       "      <td>3.455959</td>\n",
       "      <td>0.787565</td>\n",
       "      <td>...</td>\n",
       "      <td>0.170984</td>\n",
       "      <td>0.150259</td>\n",
       "      <td>0.093264</td>\n",
       "      <td>0.150259</td>\n",
       "      <td>1.388601</td>\n",
       "      <td>0.056995</td>\n",
       "      <td>0.139896</td>\n",
       "      <td>0.248705</td>\n",
       "      <td>0.202073</td>\n",
       "      <td>0.082902</td>\n",
       "    </tr>\n",
       "    <tr>\n",
       "      <th>std</th>\n",
       "      <td>1.553625</td>\n",
       "      <td>1.308745</td>\n",
       "      <td>2176.570790</td>\n",
       "      <td>92.171685</td>\n",
       "      <td>3.489359</td>\n",
       "      <td>2.066482</td>\n",
       "      <td>1.040522</td>\n",
       "      <td>2.331706</td>\n",
       "      <td>1.298789</td>\n",
       "      <td>0.410095</td>\n",
       "      <td>...</td>\n",
       "      <td>0.464116</td>\n",
       "      <td>0.386238</td>\n",
       "      <td>0.291559</td>\n",
       "      <td>0.436860</td>\n",
       "      <td>4.407531</td>\n",
       "      <td>0.232436</td>\n",
       "      <td>0.347782</td>\n",
       "      <td>0.433386</td>\n",
       "      <td>0.402590</td>\n",
       "      <td>0.276450</td>\n",
       "    </tr>\n",
       "    <tr>\n",
       "      <th>min</th>\n",
       "      <td>1.000000</td>\n",
       "      <td>1.000000</td>\n",
       "      <td>0.000000</td>\n",
       "      <td>0.000000</td>\n",
       "      <td>1.000000</td>\n",
       "      <td>0.000000</td>\n",
       "      <td>0.000000</td>\n",
       "      <td>0.000000</td>\n",
       "      <td>1.000000</td>\n",
       "      <td>0.000000</td>\n",
       "      <td>...</td>\n",
       "      <td>0.000000</td>\n",
       "      <td>0.000000</td>\n",
       "      <td>0.000000</td>\n",
       "      <td>0.000000</td>\n",
       "      <td>0.000000</td>\n",
       "      <td>0.000000</td>\n",
       "      <td>0.000000</td>\n",
       "      <td>0.000000</td>\n",
       "      <td>0.000000</td>\n",
       "      <td>0.000000</td>\n",
       "    </tr>\n",
       "    <tr>\n",
       "      <th>25%</th>\n",
       "      <td>3.000000</td>\n",
       "      <td>1.000000</td>\n",
       "      <td>9.000000</td>\n",
       "      <td>0.000000</td>\n",
       "      <td>2.000000</td>\n",
       "      <td>1.000000</td>\n",
       "      <td>0.000000</td>\n",
       "      <td>0.000000</td>\n",
       "      <td>3.000000</td>\n",
       "      <td>1.000000</td>\n",
       "      <td>...</td>\n",
       "      <td>0.000000</td>\n",
       "      <td>0.000000</td>\n",
       "      <td>0.000000</td>\n",
       "      <td>0.000000</td>\n",
       "      <td>0.000000</td>\n",
       "      <td>0.000000</td>\n",
       "      <td>0.000000</td>\n",
       "      <td>0.000000</td>\n",
       "      <td>0.000000</td>\n",
       "      <td>0.000000</td>\n",
       "    </tr>\n",
       "    <tr>\n",
       "      <th>50%</th>\n",
       "      <td>4.000000</td>\n",
       "      <td>2.000000</td>\n",
       "      <td>111.000000</td>\n",
       "      <td>4.000000</td>\n",
       "      <td>6.000000</td>\n",
       "      <td>1.000000</td>\n",
       "      <td>0.000000</td>\n",
       "      <td>0.000000</td>\n",
       "      <td>3.000000</td>\n",
       "      <td>1.000000</td>\n",
       "      <td>...</td>\n",
       "      <td>0.000000</td>\n",
       "      <td>0.000000</td>\n",
       "      <td>0.000000</td>\n",
       "      <td>0.000000</td>\n",
       "      <td>0.000000</td>\n",
       "      <td>0.000000</td>\n",
       "      <td>0.000000</td>\n",
       "      <td>0.000000</td>\n",
       "      <td>0.000000</td>\n",
       "      <td>0.000000</td>\n",
       "    </tr>\n",
       "    <tr>\n",
       "      <th>75%</th>\n",
       "      <td>5.000000</td>\n",
       "      <td>4.000000</td>\n",
       "      <td>463.000000</td>\n",
       "      <td>14.000000</td>\n",
       "      <td>9.000000</td>\n",
       "      <td>4.000000</td>\n",
       "      <td>0.000000</td>\n",
       "      <td>3.000000</td>\n",
       "      <td>4.000000</td>\n",
       "      <td>1.000000</td>\n",
       "      <td>...</td>\n",
       "      <td>0.000000</td>\n",
       "      <td>0.000000</td>\n",
       "      <td>0.000000</td>\n",
       "      <td>0.000000</td>\n",
       "      <td>1.000000</td>\n",
       "      <td>0.000000</td>\n",
       "      <td>0.000000</td>\n",
       "      <td>0.000000</td>\n",
       "      <td>0.000000</td>\n",
       "      <td>0.000000</td>\n",
       "    </tr>\n",
       "    <tr>\n",
       "      <th>max</th>\n",
       "      <td>6.000000</td>\n",
       "      <td>4.000000</td>\n",
       "      <td>22402.000000</td>\n",
       "      <td>1008.000000</td>\n",
       "      <td>10.000000</td>\n",
       "      <td>7.000000</td>\n",
       "      <td>5.000000</td>\n",
       "      <td>14.000000</td>\n",
       "      <td>8.000000</td>\n",
       "      <td>1.000000</td>\n",
       "      <td>...</td>\n",
       "      <td>4.000000</td>\n",
       "      <td>2.000000</td>\n",
       "      <td>1.000000</td>\n",
       "      <td>4.000000</td>\n",
       "      <td>50.000000</td>\n",
       "      <td>1.000000</td>\n",
       "      <td>1.000000</td>\n",
       "      <td>1.000000</td>\n",
       "      <td>1.000000</td>\n",
       "      <td>1.000000</td>\n",
       "    </tr>\n",
       "  </tbody>\n",
       "</table>\n",
       "<p>8 rows × 26 columns</p>\n",
       "</div>"
      ],
      "text/plain": [
       "         landmass        zone          area   population    language  \\\n",
       "count  193.000000  193.000000    193.000000   193.000000  193.000000   \n",
       "mean     3.564767    2.217617    700.316062    23.305699    5.316062   \n",
       "std      1.553625    1.308745   2176.570790    92.171685    3.489359   \n",
       "min      1.000000    1.000000      0.000000     0.000000    1.000000   \n",
       "25%      3.000000    1.000000      9.000000     0.000000    2.000000   \n",
       "50%      4.000000    2.000000    111.000000     4.000000    6.000000   \n",
       "75%      5.000000    4.000000    463.000000    14.000000    9.000000   \n",
       "max      6.000000    4.000000  22402.000000  1008.000000   10.000000   \n",
       "\n",
       "         religion        bars     stripes     colours         red  ...  \\\n",
       "count  193.000000  193.000000  193.000000  193.000000  193.000000  ...   \n",
       "mean     2.191710    0.455959    1.544041    3.455959    0.787565  ...   \n",
       "std      2.066482    1.040522    2.331706    1.298789    0.410095  ...   \n",
       "min      0.000000    0.000000    0.000000    1.000000    0.000000  ...   \n",
       "25%      1.000000    0.000000    0.000000    3.000000    1.000000  ...   \n",
       "50%      1.000000    0.000000    0.000000    3.000000    1.000000  ...   \n",
       "75%      4.000000    0.000000    3.000000    4.000000    1.000000  ...   \n",
       "max      7.000000    5.000000   14.000000    8.000000    1.000000  ...   \n",
       "\n",
       "          circles     crosses    saltires    quarters    sunstars    crescent  \\\n",
       "count  193.000000  193.000000  193.000000  193.000000  193.000000  193.000000   \n",
       "mean     0.170984    0.150259    0.093264    0.150259    1.388601    0.056995   \n",
       "std      0.464116    0.386238    0.291559    0.436860    4.407531    0.232436   \n",
       "min      0.000000    0.000000    0.000000    0.000000    0.000000    0.000000   \n",
       "25%      0.000000    0.000000    0.000000    0.000000    0.000000    0.000000   \n",
       "50%      0.000000    0.000000    0.000000    0.000000    0.000000    0.000000   \n",
       "75%      0.000000    0.000000    0.000000    0.000000    1.000000    0.000000   \n",
       "max      4.000000    2.000000    1.000000    4.000000   50.000000    1.000000   \n",
       "\n",
       "         triangle        icon     animate        text  \n",
       "count  193.000000  193.000000  193.000000  193.000000  \n",
       "mean     0.139896    0.248705    0.202073    0.082902  \n",
       "std      0.347782    0.433386    0.402590    0.276450  \n",
       "min      0.000000    0.000000    0.000000    0.000000  \n",
       "25%      0.000000    0.000000    0.000000    0.000000  \n",
       "50%      0.000000    0.000000    0.000000    0.000000  \n",
       "75%      0.000000    0.000000    0.000000    0.000000  \n",
       "max      1.000000    1.000000    1.000000    1.000000  \n",
       "\n",
       "[8 rows x 26 columns]"
      ]
     },
     "execution_count": 52,
     "metadata": {},
     "output_type": "execute_result"
    }
   ],
   "source": [
    "df1.describe()"
   ]
  },
  {
   "cell_type": "markdown",
   "metadata": {},
   "source": [
    "Label Encode all categorical columns for Decision Tree Classifier. Even though all the categorical \n",
    "columns are nominal, one-hot encode will cause inefficiency to decision tree classifier. "
   ]
  },
  {
   "cell_type": "code",
   "execution_count": 53,
   "metadata": {},
   "outputs": [
    {
     "name": "stdout",
     "output_type": "stream",
     "text": [
      "Number of categories in the object columns:\n",
      "name        193\n",
      "botright      8\n",
      "mainhue       8\n",
      "topleft       7\n",
      "dtype: int64\n",
      "\n",
      "New number of rows and columns(193, 30)\n",
      "\n",
      "   name  landmass  zone  area  population  language  religion  bars  stripes  \\\n",
      "0     0         3     1    29           3         6         6     0        0   \n",
      "1     1         4     1  2388          20         8         2     2        0   \n",
      "2     2         6     3     0           0         1         1     0        0   \n",
      "3     3         3     1     0           0         6         0     3        0   \n",
      "4     4         4     2  1247           7        10         5     0        2   \n",
      "\n",
      "   colours  ...  saltires  quarters  sunstars  crescent  triangle  icon  \\\n",
      "0        3  ...         0         0         1         0         0     0   \n",
      "1        3  ...         0         0         1         1         0     0   \n",
      "2        5  ...         0         0         0         0         1     1   \n",
      "3        3  ...         0         0         0         0         0     0   \n",
      "4        3  ...         0         0         1         0         0     1   \n",
      "\n",
      "   animate  text  topleft  botright  \n",
      "0        1     0        5         6  \n",
      "1        0     0        3         7  \n",
      "2        1     0        1         6  \n",
      "3        0     0        1         6  \n",
      "4        0     0        5         0  \n",
      "\n",
      "[5 rows x 30 columns]\n",
      "\n"
     ]
    }
   ],
   "source": [
    "def encode():\n",
    "    df2 = df1.copy()  #create another df copy\n",
    "    lbEnc = LabelEncoder()  #Use Label encoding for decision tree\n",
    "    catCols =df2.columns[df2.dtypes==np.object]  #Object columns\n",
    "    #Check number of categories for object columns\n",
    "    leCols = (df2[catCols].apply(lambda x: x.nunique()).sort_values(ascending=False))\n",
    "    for col in catCols:     #Label Encode all object columns\n",
    "        df2[col] = lbEnc.fit_transform(df1[col]).astype(np.int64)\n",
    "    print(\"Number of categories in the object columns:\\n{}\\n\".format(leCols))\n",
    "    print(\"New number of rows and columns{}\\n\".format(df2.shape))\n",
    "    print(\"{}\\n\".format(df2.head()))  #check the new dataframe\n",
    "    \n",
    "    return df2\n",
    "\n",
    "df2 = encode()"
   ]
  },
  {
   "cell_type": "markdown",
   "metadata": {},
   "source": [
    "For the Logistic Regression and Naive Bayes Classifier, we will label encode the name categorical and\n",
    "one-hot encode the remaining columns. "
   ]
  },
  {
   "cell_type": "code",
   "execution_count": 54,
   "metadata": {},
   "outputs": [
    {
     "name": "stdout",
     "output_type": "stream",
     "text": [
      "New number of rows and columns(193, 47)\n",
      "\n",
      "   name  landmass  zone  area  population  language  religion  bars  stripes  \\\n",
      "0     0         3     1    29           3         6         6     0        0   \n",
      "1     1         4     1  2388          20         8         2     2        0   \n",
      "2     2         6     3     0           0         1         1     0        0   \n",
      "3     3         3     1     0           0         6         0     3        0   \n",
      "4     4         4     2  1247           7        10         5     0        2   \n",
      "\n",
      "   colours  ...  topleft_orange  topleft_red  topleft_white  botright_blue  \\\n",
      "0        3  ...               0            1              0              0   \n",
      "1        3  ...               0            0              0              0   \n",
      "2        5  ...               0            0              0              0   \n",
      "3        3  ...               0            0              0              0   \n",
      "4        3  ...               0            1              0              0   \n",
      "\n",
      "   botright_brown  botright_gold  botright_green  botright_orange  \\\n",
      "0               0              0               0                0   \n",
      "1               0              0               0                0   \n",
      "2               0              0               0                0   \n",
      "3               0              0               0                0   \n",
      "4               0              0               0                0   \n",
      "\n",
      "   botright_red  botright_white  \n",
      "0             1               0  \n",
      "1             0               1  \n",
      "2             1               0  \n",
      "3             1               0  \n",
      "4             0               0  \n",
      "\n",
      "[5 rows x 47 columns]\n",
      "\n"
     ]
    }
   ],
   "source": [
    "def catEncode(df1):\n",
    "    \n",
    "    labEnc = LabelEncoder()\n",
    "    #too many additional columns if we do one-hot encode, even though is nominal     \n",
    "    df1[\"name\"] = labEnc.fit_transform(df2.name).astype(np.int64)  #label encode country names\n",
    "    cCols = df1.columns[df1.dtypes==np.object]  #Object columns\n",
    "    #Check number of categories for object columns\n",
    "    leCols = (df1[cCols].apply(lambda x: x.nunique()).sort_values())\n",
    "    #for col in catCols:     #Label Encode all object columns\n",
    "        #df1[col] = labEnc.fit_transform(df1[col]).astype(np.int64)\n",
    "    df1 = pd.get_dummies(df1, drop_first=True).astype(np.int64) #one-hot encode object columns\n",
    "    print(\"New number of rows and columns{}\\n\".format(df1.shape))\n",
    "    print(\"{}\\n\".format(df1.head()))    #check the new dataframe\n",
    "    \n",
    "    return df1\n",
    "\n",
    "df1 = catEncode(df1)"
   ]
  },
  {
   "cell_type": "markdown",
   "metadata": {},
   "source": [
    "### Decision Tree Classifier"
   ]
  },
  {
   "cell_type": "markdown",
   "metadata": {},
   "source": [
    "Scaling is not required for decision tree classifier. Proceed to train, test and split the dataset. Create the instance and train the model."
   ]
  },
  {
   "cell_type": "code",
   "execution_count": 56,
   "metadata": {},
   "outputs": [],
   "source": [
    "def ttSpt(df2):\n",
    "    fcols = [x for x in df2.columns if x not in \"language\"]  #select all feature columns\n",
    "    #Alternatively, y_col, fcols = \"language\", [x for x in df1.columns if x != y_col]\n",
    "    X, y = df2[fcols], df2[\"language\"]  #X as feature columns, y as target columns\n",
    "    #Test, train and split dataset\n",
    "    X_train, X_test, y_train, y_test = train_test_split(X, y, stratify=y, test_size=0.3, random_state=123)\n",
    "    #create instance of decision tree model and train Decision Tree Classifer\n",
    "    dtc = DecisionTreeClassifier(random_state=123).fit(X_train,y_train)  \n",
    "    y_tr_pred = dtc.predict(X_train)  #Predict the response for test dataset\n",
    "    y_te_pred = dtc.predict(X_test)\n",
    "    \n",
    "    return dtc, fcols, X_train, X_test, y_train, y_test, y_tr_pred, y_te_pred\n",
    "\n",
    "dtc, fcols, X_train, X_test, y_train, y_test, y_tr_pred, y_te_pred  = ttSpt(df2)"
   ]
  },
  {
   "cell_type": "markdown",
   "metadata": {},
   "source": [
    "Evaluate the performance with the classification metrics."
   ]
  },
  {
   "cell_type": "code",
   "execution_count": 57,
   "metadata": {
    "scrolled": true
   },
   "outputs": [
    {
     "data": {
      "text/html": [
       "<div>\n",
       "<style scoped>\n",
       "    .dataframe tbody tr th:only-of-type {\n",
       "        vertical-align: middle;\n",
       "    }\n",
       "\n",
       "    .dataframe tbody tr th {\n",
       "        vertical-align: top;\n",
       "    }\n",
       "\n",
       "    .dataframe thead th {\n",
       "        text-align: right;\n",
       "    }\n",
       "</style>\n",
       "<table border=\"1\" class=\"dataframe\">\n",
       "  <thead>\n",
       "    <tr style=\"text-align: right;\">\n",
       "      <th></th>\n",
       "      <th>train</th>\n",
       "      <th>test</th>\n",
       "    </tr>\n",
       "  </thead>\n",
       "  <tbody>\n",
       "    <tr>\n",
       "      <th>accuracy</th>\n",
       "      <td>1.0</td>\n",
       "      <td>0.637931</td>\n",
       "    </tr>\n",
       "    <tr>\n",
       "      <th>precision</th>\n",
       "      <td>1.0</td>\n",
       "      <td>0.628038</td>\n",
       "    </tr>\n",
       "    <tr>\n",
       "      <th>recall</th>\n",
       "      <td>1.0</td>\n",
       "      <td>0.637931</td>\n",
       "    </tr>\n",
       "    <tr>\n",
       "      <th>f1</th>\n",
       "      <td>1.0</td>\n",
       "      <td>0.629327</td>\n",
       "    </tr>\n",
       "  </tbody>\n",
       "</table>\n",
       "</div>"
      ],
      "text/plain": [
       "           train      test\n",
       "accuracy     1.0  0.637931\n",
       "precision    1.0  0.628038\n",
       "recall       1.0  0.637931\n",
       "f1           1.0  0.629327"
      ]
     },
     "execution_count": 57,
     "metadata": {},
     "output_type": "execute_result"
    }
   ],
   "source": [
    "def score(y_tr, y_pr, colname):\n",
    "    score = pd.Series({\"accuracy\":accuracy_score(y_tr, y_pr),  #Evaluate with classification metrics\n",
    "                        \"precision\": precision_score(y_tr, y_pr, average=\"weighted\"),\n",
    "                        \"recall\": recall_score(y_tr, y_pr, average=\"weighted\"),\n",
    "                        \"f1\": f1_score(y_tr, y_pr, average=\"weighted\")}, name=colname)\n",
    "\n",
    "    return score\n",
    "\n",
    "\n",
    "metric = pd.concat([score(y_train, y_tr_pred, \"train\"), score(y_test, y_te_pred, \"test\")], axis=1)\n",
    "metric"
   ]
  },
  {
   "cell_type": "code",
   "execution_count": 58,
   "metadata": {},
   "outputs": [
    {
     "data": {
      "text/plain": [
       "array([[ 8,  0,  1,  0,  0,  2,  0,  0,  0,  2],\n",
       "       [ 0,  6,  0,  0,  0,  0,  0,  0,  0,  0],\n",
       "       [ 1,  1,  1,  0,  0,  1,  1,  0,  0,  0],\n",
       "       [ 0,  0,  0,  1,  0,  0,  0,  0,  0,  1],\n",
       "       [ 0,  0,  0,  0,  0,  1,  0,  0,  0,  0],\n",
       "       [ 2,  0,  0,  1,  1,  4,  0,  0,  0,  1],\n",
       "       [ 0,  0,  0,  0,  0,  0,  1,  0,  0,  0],\n",
       "       [ 0,  0,  1,  0,  0,  0,  0,  5,  0,  0],\n",
       "       [ 0,  0,  0,  0,  0,  1,  0,  0,  0,  0],\n",
       "       [ 1,  0,  1,  0,  0,  1,  0,  0,  0, 11]], dtype=int64)"
      ]
     },
     "execution_count": 58,
     "metadata": {},
     "output_type": "execute_result"
    }
   ],
   "source": [
    "confusion_matrix(y_test, y_te_pred)"
   ]
  },
  {
   "cell_type": "code",
   "execution_count": 59,
   "metadata": {
    "scrolled": true
   },
   "outputs": [
    {
     "data": {
      "image/png": "[encoded data removed]",
      "text/plain": [
       "<Figure size 432x288 with 1 Axes>"
      ]
     },
     "metadata": {},
     "output_type": "display_data"
    }
   ],
   "source": [
    "plot_learning_curves(X_train, y_train, X_test, y_test, dtc, print_model=False, style=\"ggplot\")\n",
    "plt.show()"
   ]
  },
  {
   "cell_type": "markdown",
   "metadata": {},
   "source": [
    "The model overfits and have a high variance problem. Let use ensemble methods such as bagging to reduce the chance of overfitting."
   ]
  },
  {
   "cell_type": "code",
   "execution_count": 60,
   "metadata": {
    "scrolled": true
   },
   "outputs": [
    {
     "data": {
      "image/png": "[encoded data removed]",
      "text/plain": [
       "<Figure size 720x360 with 1 Axes>"
      ]
     },
     "metadata": {
      "needs_background": "light"
     },
     "output_type": "display_data"
    }
   ],
   "source": [
    "def ensem(dtc, X_train, y_train):\n",
    "    #Use bagging classifier \n",
    "    bc = BaggingClassifier(dtc, oob_score=True, random_state=123)\n",
    "    rfc = RandomForestClassifier(dtc, oob_score=True, warm_start=False, random_state=123)\n",
    "    rfcoob, bcoob = [], [] #create a list to store\n",
    "    # Iterate through the number of trees to find best n_estimator\n",
    "    for ntrees in [10, 15, 20, 30, 40, 50, 100, 150, 200, 300, 400]:\n",
    "        bc.set_params(n_estimators=ntrees), rfc.set_params(n_estimators=ntrees)  #set number of trees\n",
    "        bc.fit(X_train, y_train), rfc.fit(X_train, y_train)    #Fit the model\n",
    "        oob_err = 1 - bc.oob_score_ \n",
    "        oob = 1 - rfc.oob_score_ #Get the oob error of both classifer\n",
    "        bcoob.append(pd.Series({\"n_trees\": ntrees, \"Bagging oob\": oob_err}))\n",
    "        rfcoob.append(pd.Series({\"n_trees\": ntrees, \"Random Forest oob\": oob}))\n",
    "        ooberr = pd.concat(bcoob, axis=1).T.set_index('n_trees')\n",
    "        ooberror = pd.concat(rfcoob, axis=1).T.set_index(\"n_trees\")\n",
    "    \n",
    "    return rfc, bc, ooberr, ooberror\n",
    "\n",
    "def plot():\n",
    "    fig, ax = plt.subplots(figsize=(10,5))   #plot visualisation chart \n",
    "    ax.plot(ooberr, c=\"b\",  marker='x', label=\"Bagging oob\", linewidth=5, linestyle=\"dotted\")\n",
    "    ax.plot(ooberror, c=\"r\", marker='x',label=\"Random Forest oob\", linestyle=\"dashdot\")\n",
    "    ax.set(xlabel=\"ntrees\", ylabel=\"oob error\")\n",
    "    plt.legend(loc=\"upper right\")\n",
    "\n",
    "rfc, bc, ooberr, ooberror = ensem(dtc, X_train, y_train)\n",
    "plot()"
   ]
  },
  {
   "cell_type": "markdown",
   "metadata": {},
   "source": [
    "From the plot, the Bagging classifier performs generally better than the Random Tree Classifier when n_estimator < 200, and stabilises around 150 trees. We will set the n_estimators as 150 using bagging classifier."
   ]
  },
  {
   "cell_type": "code",
   "execution_count": 61,
   "metadata": {},
   "outputs": [],
   "source": [
    "def ensempar(bc, X_test, X_train):\n",
    "    bc = bc.set_params(n_estimators=150)  #set the parameter\n",
    "    ytestpred = bc.predict(X_test)    #Predict the response for test dataset\n",
    "    ytrainpred = bc.predict(X_train)\n",
    "    \n",
    "    return bc, ytestpred, ytrainpred \n",
    "\n",
    "bc, ytestpred, ytrainpred = ensempar(bc, X_test, X_train)"
   ]
  },
  {
   "cell_type": "code",
   "execution_count": 62,
   "metadata": {
    "scrolled": true
   },
   "outputs": [
    {
     "data": {
      "text/html": [
       "<div>\n",
       "<style scoped>\n",
       "    .dataframe tbody tr th:only-of-type {\n",
       "        vertical-align: middle;\n",
       "    }\n",
       "\n",
       "    .dataframe tbody tr th {\n",
       "        vertical-align: top;\n",
       "    }\n",
       "\n",
       "    .dataframe thead th {\n",
       "        text-align: right;\n",
       "    }\n",
       "</style>\n",
       "<table border=\"1\" class=\"dataframe\">\n",
       "  <thead>\n",
       "    <tr style=\"text-align: right;\">\n",
       "      <th></th>\n",
       "      <th>train</th>\n",
       "      <th>test</th>\n",
       "    </tr>\n",
       "  </thead>\n",
       "  <tbody>\n",
       "    <tr>\n",
       "      <th>accuracy</th>\n",
       "      <td>1.0</td>\n",
       "      <td>0.741379</td>\n",
       "    </tr>\n",
       "    <tr>\n",
       "      <th>precision</th>\n",
       "      <td>1.0</td>\n",
       "      <td>0.687453</td>\n",
       "    </tr>\n",
       "    <tr>\n",
       "      <th>recall</th>\n",
       "      <td>1.0</td>\n",
       "      <td>0.741379</td>\n",
       "    </tr>\n",
       "    <tr>\n",
       "      <th>f1</th>\n",
       "      <td>1.0</td>\n",
       "      <td>0.704513</td>\n",
       "    </tr>\n",
       "  </tbody>\n",
       "</table>\n",
       "</div>"
      ],
      "text/plain": [
       "           train      test\n",
       "accuracy     1.0  0.741379\n",
       "precision    1.0  0.687453\n",
       "recall       1.0  0.741379\n",
       "f1           1.0  0.704513"
      ]
     },
     "execution_count": 62,
     "metadata": {},
     "output_type": "execute_result"
    }
   ],
   "source": [
    "def ensemScore(ytr, ypr, coname): \n",
    "    #Evaluate with classification metrics\n",
    "    ascore = pd.Series({\"accuracy\": accuracy_score(ytr, ypr),  \n",
    "                        \"precision\": precision_score(ytr, ypr,  average='weighted'),\n",
    "                        \"recall\": recall_score(ytr, ypr,  average='weighted'),\n",
    "                        \"f1\": f1_score(ytr, ypr,  average='weighted')}, name=coname)\n",
    "\n",
    "    return ascore \n",
    "\n",
    "bagmetrics = pd.concat([ensemScore(y_train, ytrainpred, \"train\"), \n",
    "                       ensemScore(y_test, ytestpred, \"test\")], axis=1)\n",
    "bagmetrics"
   ]
  },
  {
   "cell_type": "code",
   "execution_count": 63,
   "metadata": {},
   "outputs": [
    {
     "name": "stdout",
     "output_type": "stream",
     "text": [
      "              precision    recall  f1-score   support\n",
      "\n",
      "           1       0.73      0.85      0.79        13\n",
      "           2       0.86      1.00      0.92         6\n",
      "           3       0.50      0.20      0.29         5\n",
      "           4       0.33      0.50      0.40         2\n",
      "           5       0.00      0.00      0.00         1\n",
      "           6       0.50      0.44      0.47         9\n",
      "           7       0.00      0.00      0.00         1\n",
      "           8       1.00      1.00      1.00         6\n",
      "           9       0.00      0.00      0.00         1\n",
      "          10       0.82      1.00      0.90        14\n",
      "\n",
      "    accuracy                           0.74        58\n",
      "   macro avg       0.47      0.50      0.48        58\n",
      "weighted avg       0.69      0.74      0.70        58\n",
      "\n"
     ]
    }
   ],
   "source": [
    "print(classification_report(y_test, ytestpred))"
   ]
  },
  {
   "cell_type": "code",
   "execution_count": 64,
   "metadata": {},
   "outputs": [
    {
     "data": {
      "text/plain": [
       "<matplotlib.axes._subplots.AxesSubplot at 0x2d0c8532160>"
      ]
     },
     "execution_count": 64,
     "metadata": {},
     "output_type": "execute_result"
    },
    {
     "data": {
      "image/png": "[encoded data removed]",
      "text/plain": [
       "<Figure size 432x288 with 2 Axes>"
      ]
     },
     "metadata": {
      "needs_background": "light"
     },
     "output_type": "display_data"
    }
   ],
   "source": [
    "conf = confusion_matrix(y_test, ytestpred)  #plot confusion matrix\n",
    "sns.heatmap(conf, annot=True, fmt=\"d\", cmap=\"Blues\")"
   ]
  },
  {
   "cell_type": "markdown",
   "metadata": {},
   "source": [
    "Accuracy improved slightly after using bagging classifier. However, there are 0 samples of \n",
    "the true response in some classes. Need more data for language which is not noisy."
   ]
  },
  {
   "cell_type": "markdown",
   "metadata": {},
   "source": [
    "### Logistic Regression Classifier"
   ]
  },
  {
   "cell_type": "markdown",
   "metadata": {},
   "source": [
    "Scale the data. Train, test and split the dataset. Create the instance and train the model."
   ]
  },
  {
   "cell_type": "code",
   "execution_count": 65,
   "metadata": {},
   "outputs": [
    {
     "name": "stdout",
     "output_type": "stream",
     "text": [
      "accuracy-test: 0.500000\n"
     ]
    }
   ],
   "source": [
    "def trteSp(df1):\n",
    "    fcols = [x for x in df1.columns if x not in \"language\"]     #select all feature columns\n",
    "    X, y = df1[fcols], df1[\"language\"]      #X as feature columns, y as target columns\n",
    "    X_train, X_test, y_train, y_test = train_test_split(X, y, stratify=y, test_size=0.3, random_state=123)\n",
    "    scale = StandardScaler()    #Scale the data\n",
    "    X_train = scale.fit_transform(X_train)\n",
    "    X_test = scale.transform(X_test)\n",
    "    #create instance of Logistic Regression Classifier and train \n",
    "    lr = LogisticRegression(random_state=123).fit(X_train, y_train)\n",
    "    y_train_pred = lr.predict(X_train)     #Predict the response for test dataset\n",
    "    y_test_pred = lr.predict(X_test)\n",
    "    print(\"accuracy-test: {:.6f}\".format(accuracy_score(y_test, y_test_pred)))\n",
    "     \n",
    "    return lr, X_train, X_test, y_train, y_test, y_train_pred, y_test_pred\n",
    "\n",
    "lr, X_train, X_test, y_train, y_test, y_train_pred, y_test_pred = trteSp(df1)"
   ]
  },
  {
   "cell_type": "markdown",
   "metadata": {},
   "source": [
    "Fine-tune the model parameter using RandomizedSearchCV."
   ]
  },
  {
   "cell_type": "code",
   "execution_count": 66,
   "metadata": {},
   "outputs": [
    {
     "name": "stdout",
     "output_type": "stream",
     "text": [
      "The best parameters {'solver': 'liblinear', 'penalty': 'l2', 'C': 0.01} with an accuracy score of 0.5517.\n"
     ]
    }
   ],
   "source": [
    "def rsSea(lr, X_train, X_test, y_train, y_test):\n",
    "    #input parameters for fine tuning\n",
    "    c_range = [0.0001, 0.001, 0.01, 0.1, 1.0, 10.0, 100.0, 1000.0] \n",
    "    pen = [\"l2\",\"l1\", \"elasticnet\",\"none\"] \n",
    "    solver = [\"newton-cg\", \"lbfgs\", \"liblinear\", \"sag\", \"saga\"]   \n",
    "    param_dist = {\"C\":c_range, \"penalty\": pen, \"solver\": solver}   \n",
    "    lr_cv = RandomizedSearchCV(estimator=lr, param_distributions=param_dist, scoring=\"accuracy\", \n",
    "                               cv=3, random_state=1).fit(X_train,y_train)  #using acc scoring \n",
    "    lr_cv_pr = lr_cv.predict(X_test)     \n",
    "    print(\"The best parameters {} with an accuracy score of {:.4f}.\".format(lr_cv.best_params_ , \n",
    "           accuracy_score(y_test,lr_cv_pr)))   #get parameter of highest acc for LR classifier \n",
    "    \n",
    "rsSea(lr, X_train, X_test, y_train, y_test)"
   ]
  },
  {
   "cell_type": "code",
   "execution_count": 67,
   "metadata": {},
   "outputs": [],
   "source": [
    "def tune():  #fine tune parameter of lr\n",
    "    lr = LogisticRegression(C=0.01, penalty=\"l2\", solver=\"liblinear\",random_state=123).fit(X_train, y_train)    \n",
    "    y_train_pred = lr.predict(X_train)     #Predict the response for test dataset\n",
    "    y_test_pred = lr.predict(X_test)\n",
    "\n",
    "    return lr, y_train_pred, y_test_pred\n",
    "\n",
    "lr, y_train_pred, y_test_pred = tune()"
   ]
  },
  {
   "cell_type": "markdown",
   "metadata": {},
   "source": [
    "Evaluate the mean squared error and classification metrics of the model."
   ]
  },
  {
   "cell_type": "code",
   "execution_count": 68,
   "metadata": {
    "scrolled": true
   },
   "outputs": [
    {
     "data": {
      "text/html": [
       "<div>\n",
       "<style scoped>\n",
       "    .dataframe tbody tr th:only-of-type {\n",
       "        vertical-align: middle;\n",
       "    }\n",
       "\n",
       "    .dataframe tbody tr th {\n",
       "        vertical-align: top;\n",
       "    }\n",
       "\n",
       "    .dataframe thead th {\n",
       "        text-align: right;\n",
       "    }\n",
       "</style>\n",
       "<table border=\"1\" class=\"dataframe\">\n",
       "  <thead>\n",
       "    <tr style=\"text-align: right;\">\n",
       "      <th></th>\n",
       "      <th>train</th>\n",
       "      <th>test</th>\n",
       "    </tr>\n",
       "  </thead>\n",
       "  <tbody>\n",
       "    <tr>\n",
       "      <th>accuracy</th>\n",
       "      <td>0.637037</td>\n",
       "      <td>0.551724</td>\n",
       "    </tr>\n",
       "    <tr>\n",
       "      <th>precision</th>\n",
       "      <td>0.648281</td>\n",
       "      <td>0.484779</td>\n",
       "    </tr>\n",
       "    <tr>\n",
       "      <th>recall</th>\n",
       "      <td>0.637037</td>\n",
       "      <td>0.551724</td>\n",
       "    </tr>\n",
       "    <tr>\n",
       "      <th>f1</th>\n",
       "      <td>0.611250</td>\n",
       "      <td>0.506631</td>\n",
       "    </tr>\n",
       "    <tr>\n",
       "      <th>mean squared error</th>\n",
       "      <td>7.933333</td>\n",
       "      <td>9.775862</td>\n",
       "    </tr>\n",
       "  </tbody>\n",
       "</table>\n",
       "</div>"
      ],
      "text/plain": [
       "                       train      test\n",
       "accuracy            0.637037  0.551724\n",
       "precision           0.648281  0.484779\n",
       "recall              0.637037  0.551724\n",
       "f1                  0.611250  0.506631\n",
       "mean squared error  7.933333  9.775862"
      ]
     },
     "execution_count": 68,
     "metadata": {},
     "output_type": "execute_result"
    }
   ],
   "source": [
    "def scor(ytrain, ypred, lab):\n",
    "    #Evaluate with classification metrics\n",
    "    bscore = pd.Series({\"accuracy\": accuracy_score(ytrain, ypred),  \n",
    "                        \"precision\": precision_score(ytrain, ypred,  average='weighted'),\n",
    "                        \"recall\": recall_score(ytrain, ypred,  average='weighted'),\n",
    "                        \"f1\": f1_score(ytrain, ypred,  average='weighted'),\n",
    "                        \"mean squared error\": mean_squared_error(ytrain, ypred)}, name=lab)\n",
    "    \n",
    "    return bscore\n",
    "   \n",
    "lrmetrics = pd.concat([scor(y_train, y_train_pred, \"train\"), scor(y_test, y_test_pred, \"test\")], axis=1)\n",
    "lrmetrics"
   ]
  },
  {
   "cell_type": "code",
   "execution_count": 69,
   "metadata": {},
   "outputs": [
    {
     "data": {
      "text/plain": [
       "array([[10,  1,  0,  0,  0,  1,  0,  0,  0,  1],\n",
       "       [ 0,  5,  1,  0,  0,  0,  0,  0,  0,  0],\n",
       "       [ 0,  1,  2,  0,  0,  1,  0,  0,  0,  1],\n",
       "       [ 0,  0,  0,  0,  0,  0,  0,  1,  0,  1],\n",
       "       [ 0,  0,  0,  0,  0,  0,  0,  0,  0,  1],\n",
       "       [ 1,  2,  2,  0,  0,  1,  0,  1,  0,  2],\n",
       "       [ 1,  0,  0,  0,  0,  0,  0,  0,  0,  0],\n",
       "       [ 0,  0,  1,  0,  0,  0,  0,  3,  0,  2],\n",
       "       [ 0,  0,  0,  0,  0,  1,  0,  0,  0,  0],\n",
       "       [ 1,  0,  1,  0,  0,  0,  0,  1,  0, 11]], dtype=int64)"
      ]
     },
     "execution_count": 69,
     "metadata": {},
     "output_type": "execute_result"
    }
   ],
   "source": [
    "confusion_matrix(y_test, y_test_pred)"
   ]
  },
  {
   "cell_type": "code",
   "execution_count": 70,
   "metadata": {
    "scrolled": false
   },
   "outputs": [
    {
     "data": {
      "image/png": "[encoded data removed]",
      "text/plain": [
       "<Figure size 432x288 with 1 Axes>"
      ]
     },
     "metadata": {
      "needs_background": "light"
     },
     "output_type": "display_data"
    }
   ],
   "source": [
    "plot_learning_curves(X_train, y_train, X_test, y_test, lr, print_model=False, style=\"seaborn-pastel\")\n",
    "plt.show()"
   ]
  },
  {
   "cell_type": "markdown",
   "metadata": {},
   "source": [
    "The model underfits and have high bias. Let's use ensemble methods such as boosting to boost the aggregate complexity."
   ]
  },
  {
   "cell_type": "code",
   "execution_count": 71,
   "metadata": {},
   "outputs": [
    {
     "name": "stdout",
     "output_type": "stream",
     "text": [
      "accuracy-train: 0.977778 \n",
      "accuracy-test: 0.706897\n",
      "mean_squared_error-train: 0.281481 \n",
      "mean_squared_error-test: 6.500000\n"
     ]
    }
   ],
   "source": [
    "def boost(lr, X_train, X_test, y_train, y_test):\n",
    "    #Using Gradient Boost Classifier\n",
    "    GBC = GradientBoostingClassifier(learning_rate=0.1, random_state=123).fit(X_train, y_train)\n",
    "    error = [1-accuracy_score(y_test, y_pred) for y_pred in GBC.staged_predict(X_test)]\n",
    "    n_esti = np.argmin(error) #get n_estimator with minimum error\n",
    "    GBC = GradientBoostingClassifier(n_estimators=n_esti, learning_rate=0.1, random_state=123).fit(X_train, y_train)\n",
    "    y_tespred = GBC.predict(X_test)\n",
    "    y_trapred = GBC.predict(X_train)\n",
    "    print(\"accuracy-train: {:.6f} \\naccuracy-test: {:.6f}\"\n",
    "          .format(accuracy_score(y_train, y_trapred), accuracy_score(y_test, y_tespred)))\n",
    "    print(\"mean_squared_error-train: {:.6f} \\nmean_squared_error-test: {:.6f}\"\n",
    "          .format(mean_squared_error(y_train, y_trapred), mean_squared_error(y_test, y_tespred)))\n",
    "    \n",
    "    return GBC\n",
    "\n",
    "GBC = boost(lr, X_train, X_test, y_train, y_test)"
   ]
  },
  {
   "cell_type": "markdown",
   "metadata": {},
   "source": [
    "Stack the model of both Logistic Regression and Gradient Boost using Voting Classifier. "
   ]
  },
  {
   "cell_type": "code",
   "execution_count": 72,
   "metadata": {},
   "outputs": [
    {
     "name": "stdout",
     "output_type": "stream",
     "text": [
      "accuracy-train: 0.977778 \n",
      "accuracy-test: 0.724138\n",
      "mean_squared_error-train: 0.281481 \n",
      "mean_squared_error-test: 5.103448\n"
     ]
    }
   ],
   "source": [
    "def vote():\n",
    "    estimators = [(\"lr\", lr), (\"GBC\", GBC)]   #Combine both models\n",
    "    VC = VotingClassifier(estimators, voting=\"soft\", flatten_transform=\"True\")\n",
    "    VC = VC.fit(X_train, y_train)  \n",
    "    y_testpred = VC.predict(X_test)\n",
    "    y_trainpred = VC.predict(X_train)\n",
    "    print(\"accuracy-train: {:.6f} \\naccuracy-test: {:.6f}\"\n",
    "          .format(accuracy_score(y_train, y_trainpred), accuracy_score(y_test, y_testpred)))\n",
    "    print(\"mean_squared_error-train: {:.6f} \\nmean_squared_error-test: {:.6f}\"\n",
    "          .format(mean_squared_error(y_train, y_trainpred), mean_squared_error(y_test, y_testpred)))\n",
    "    \n",
    "    return VC, y_testpred, y_trainpred\n",
    "\n",
    "VC, y_testpred, y_trainpred = vote()"
   ]
  },
  {
   "cell_type": "code",
   "execution_count": 73,
   "metadata": {},
   "outputs": [
    {
     "name": "stdout",
     "output_type": "stream",
     "text": [
      "              precision    recall  f1-score   support\n",
      "\n",
      "           1       0.97      1.00      0.98        30\n",
      "           2       1.00      1.00      1.00        15\n",
      "           3       1.00      0.92      0.96        12\n",
      "           4       1.00      1.00      1.00         4\n",
      "           5       1.00      1.00      1.00         3\n",
      "           6       0.95      0.95      0.95        21\n",
      "           7       1.00      1.00      1.00         3\n",
      "           8       0.93      1.00      0.96        13\n",
      "           9       1.00      1.00      1.00         3\n",
      "          10       1.00      0.97      0.98        31\n",
      "\n",
      "    accuracy                           0.98       135\n",
      "   macro avg       0.98      0.98      0.98       135\n",
      "weighted avg       0.98      0.98      0.98       135\n",
      "\n"
     ]
    }
   ],
   "source": [
    "print(classification_report(y_train, y_trainpred))"
   ]
  },
  {
   "cell_type": "code",
   "execution_count": 74,
   "metadata": {},
   "outputs": [
    {
     "name": "stdout",
     "output_type": "stream",
     "text": [
      "              precision    recall  f1-score   support\n",
      "\n",
      "           1       0.79      0.85      0.81        13\n",
      "           2       0.75      1.00      0.86         6\n",
      "           3       1.00      0.20      0.33         5\n",
      "           4       0.00      0.00      0.00         2\n",
      "           5       0.00      0.00      0.00         1\n",
      "           6       0.50      0.44      0.47         9\n",
      "           7       0.00      0.00      0.00         1\n",
      "           8       1.00      1.00      1.00         6\n",
      "           9       0.00      0.00      0.00         1\n",
      "          10       0.78      1.00      0.88        14\n",
      "\n",
      "    accuracy                           0.72        58\n",
      "   macro avg       0.48      0.45      0.44        58\n",
      "weighted avg       0.71      0.72      0.69        58\n",
      "\n"
     ]
    }
   ],
   "source": [
    "print(classification_report(y_test, y_testpred))"
   ]
  },
  {
   "cell_type": "code",
   "execution_count": 75,
   "metadata": {},
   "outputs": [
    {
     "data": {
      "text/plain": [
       "<matplotlib.axes._subplots.AxesSubplot at 0x2d0c521dcf8>"
      ]
     },
     "execution_count": 75,
     "metadata": {},
     "output_type": "execute_result"
    },
    {
     "data": {
      "image/png": "[encoded data removed]",
      "text/plain": [
       "<Figure size 432x288 with 2 Axes>"
      ]
     },
     "metadata": {
      "needs_background": "light"
     },
     "output_type": "display_data"
    }
   ],
   "source": [
    "confo = confusion_matrix(y_test, ytestpred)   #plot confusion matrix\n",
    "sns.heatmap(conf, annot=True, fmt=\"d\", cmap=\"Greens\")"
   ]
  },
  {
   "cell_type": "markdown",
   "metadata": {},
   "source": [
    "The result is better with both models combined using Voting Classifier. However, the model is overfitting. "
   ]
  },
  {
   "cell_type": "markdown",
   "metadata": {},
   "source": [
    "### SVC Classifier"
   ]
  },
  {
   "cell_type": "markdown",
   "metadata": {},
   "source": [
    "Scale the data. Train, test and split the dataset. Create the instance and train the model."
   ]
  },
  {
   "cell_type": "code",
   "execution_count": 76,
   "metadata": {},
   "outputs": [],
   "source": [
    "def tratesSpt(df1):\n",
    "    fcols = [x for x in df1.columns if x not in \"language\"] #select all feature columns\n",
    "    X, y = df1[fcols], df1[\"language\"]      #X as feature columns, y as target columns\n",
    "    X_train, X_test, y_train, y_test = train_test_split(X, y, stratify=y, test_size=0.3, random_state=123)\n",
    "    scale = StandardScaler() #Scale the data\n",
    "    X_train = scale.fit_transform(X_train)\n",
    "    X_test = scale.transform(X_test)\n",
    "    svc = SVC().fit(X_train, y_train)  #Fit the model  \n",
    "    y_tra_pred = svc.predict(X_train)\n",
    "    y_tes_pred = svc.predict(X_test)\n",
    "    \n",
    "    return svc, fcols, X_train, X_test, y_train, y_test, y_tra_pred, y_tes_pred\n",
    "\n",
    "svc, fcols, X_train, X_test, y_train, y_test, y_tra_pred, y_tes_pred = tratesSpt(df1)"
   ]
  },
  {
   "cell_type": "code",
   "execution_count": 77,
   "metadata": {
    "scrolled": false
   },
   "outputs": [
    {
     "data": {
      "image/png": "[encoded data removed]",
      "text/plain": [
       "<Figure size 432x288 with 1 Axes>"
      ]
     },
     "metadata": {},
     "output_type": "display_data"
    }
   ],
   "source": [
    "plot_learning_curves(X_train, y_train, X_test, y_test, svc, print_model=False, style=\"seaborn-whitegrid\")\n",
    "plt.show()"
   ]
  },
  {
   "cell_type": "markdown",
   "metadata": {},
   "source": [
    "From the learning curve, we can see the error rate is high. "
   ]
  },
  {
   "cell_type": "code",
   "execution_count": 78,
   "metadata": {
    "scrolled": true
   },
   "outputs": [
    {
     "data": {
      "text/html": [
       "<div>\n",
       "<style scoped>\n",
       "    .dataframe tbody tr th:only-of-type {\n",
       "        vertical-align: middle;\n",
       "    }\n",
       "\n",
       "    .dataframe tbody tr th {\n",
       "        vertical-align: top;\n",
       "    }\n",
       "\n",
       "    .dataframe thead th {\n",
       "        text-align: right;\n",
       "    }\n",
       "</style>\n",
       "<table border=\"1\" class=\"dataframe\">\n",
       "  <thead>\n",
       "    <tr style=\"text-align: right;\">\n",
       "      <th></th>\n",
       "      <th>train</th>\n",
       "      <th>test</th>\n",
       "    </tr>\n",
       "  </thead>\n",
       "  <tbody>\n",
       "    <tr>\n",
       "      <th>accuracy</th>\n",
       "      <td>0.740741</td>\n",
       "      <td>0.551724</td>\n",
       "    </tr>\n",
       "    <tr>\n",
       "      <th>precision</th>\n",
       "      <td>0.781088</td>\n",
       "      <td>0.495410</td>\n",
       "    </tr>\n",
       "    <tr>\n",
       "      <th>recall</th>\n",
       "      <td>0.740741</td>\n",
       "      <td>0.551724</td>\n",
       "    </tr>\n",
       "    <tr>\n",
       "      <th>f1</th>\n",
       "      <td>0.723972</td>\n",
       "      <td>0.497205</td>\n",
       "    </tr>\n",
       "  </tbody>\n",
       "</table>\n",
       "</div>"
      ],
      "text/plain": [
       "              train      test\n",
       "accuracy   0.740741  0.551724\n",
       "precision  0.781088  0.495410\n",
       "recall     0.740741  0.551724\n",
       "f1         0.723972  0.497205"
      ]
     },
     "execution_count": 78,
     "metadata": {},
     "output_type": "execute_result"
    }
   ],
   "source": [
    "def sco(yt, ypred, label):\n",
    "   \n",
    "    cscore = pd.Series({\"accuracy\": accuracy_score(yt, ypred),  #Evaluate with classification metrics\n",
    "                        \"precision\": precision_score(yt, ypred,  average='weighted'),\n",
    "                        \"recall\": recall_score(yt, ypred,  average='weighted'),\n",
    "                        \"f1\": f1_score(yt, ypred,  average='weighted')}, name=label)\n",
    "    \n",
    "    return cscore\n",
    "   \n",
    "svcmetrics = pd.concat([sco(y_train, y_tra_pred, \"train\"), sco(y_test, y_tes_pred, \"test\")], axis=1)\n",
    "\n",
    "svcmetrics"
   ]
  },
  {
   "cell_type": "markdown",
   "metadata": {},
   "source": [
    "Let's fine tune the model using gridsearch."
   ]
  },
  {
   "cell_type": "code",
   "execution_count": 79,
   "metadata": {},
   "outputs": [
    {
     "name": "stdout",
     "output_type": "stream",
     "text": [
      "The best parameter: {'C': 1.0, 'kernel': 'rbf'}\n"
     ]
    }
   ],
   "source": [
    "def gsSea(svc, X_train, X_test, y_train, y_tes):\n",
    "    #input parameters for fine tuning\n",
    "    c_range = [0.0001, 0.001, 0.01, 0.1, 1.0, 10.0, 100.0, 1000.0] \n",
    "    ker = [\"linear\" \"poly\", \"rbf\", \"sigmoid\"]  \n",
    "    param_grid = {\"C\": c_range, \"kernel\": ker}   \n",
    "    gs = GridSearchCV(estimator=svc, param_grid=param_grid, scoring = \"accuracy\", cv=4).fit(X_train, y_train)     \n",
    "    print(\"The best parameter: {}\".format(gs.best_params_))  #get best parameter of the classifier\n",
    "    \n",
    "gsSea(svc, X_train, X_test, y_train, y_test)"
   ]
  },
  {
   "cell_type": "code",
   "execution_count": 80,
   "metadata": {},
   "outputs": [
    {
     "name": "stdout",
     "output_type": "stream",
     "text": [
      "accuracy-train: 0.740741 \n",
      "accuracy-test: 0.551724\n"
     ]
    }
   ],
   "source": [
    "def tun():\n",
    "    #tune parameter of model\n",
    "    svc = SVC(C= 1.0, kernel=\"rbf\", probability=True).fit(X_train, y_train)  \n",
    "    y_tra_pred = svc.predict(X_train)\n",
    "    y_tes_pred = svc.predict(X_test)\n",
    "    print(\"accuracy-train: {:.6f} \\naccuracy-test: {:.6f}\"\n",
    "        .format(accuracy_score(y_train, y_tra_pred), accuracy_score(y_test, y_tes_pred)))\n",
    "\n",
    "    return svc, y_tra_pred, y_tes_pred\n",
    "\n",
    "svc, y_tra_pred, y_tes_pred = tun()"
   ]
  },
  {
   "cell_type": "markdown",
   "metadata": {},
   "source": [
    "There is no improvement as both training and testing set performs poorly. \n",
    "Let's proceed with boosting. "
   ]
  },
  {
   "cell_type": "code",
   "execution_count": 81,
   "metadata": {},
   "outputs": [
    {
     "name": "stdout",
     "output_type": "stream",
     "text": [
      "accuracy-train: 0.977778 \n",
      "accuracy-test: 0.706897\n"
     ]
    }
   ],
   "source": [
    "def xgb():\n",
    "    xgb = XGBClassifier(learning_rate=0.02, random_state=123)  \n",
    "    xgb.fit(X_train, y_train)       #using xgboost\n",
    "    y_tespred = xgb.predict(X_test)  \n",
    "    y_trapred = xgb.predict(X_train)\n",
    "    print(\"accuracy-train: {:.6f} \\naccuracy-test: {:.6f}\"\n",
    "          .format(accuracy_score(y_train, y_trapred), accuracy_score(y_test, y_tespred)))\n",
    "    \n",
    "    return xgb, y_trapred, y_tespred\n",
    "\n",
    "xgb, y_trapred, y_tespred = xgb()"
   ]
  },
  {
   "cell_type": "code",
   "execution_count": 82,
   "metadata": {
    "scrolled": true
   },
   "outputs": [
    {
     "name": "stdout",
     "output_type": "stream",
     "text": [
      "accuracy-train: 0.925926 \n",
      "accuracy-test: 0.672414\n"
     ]
    }
   ],
   "source": [
    "def vote():\n",
    "    estimators = [(\"svc\", svc), (\"xgb\", xgb)]   #Combine both models\n",
    "    vc = VotingClassifier(estimators, voting=\"soft\")\n",
    "    vc = vc.fit(X_train, y_train)  \n",
    "    y_tespred = vc.predict(X_test)\n",
    "    y_trapred = vc.predict(X_train)\n",
    "    print(\"accuracy-train: {:.6f} \\naccuracy-test: {:.6f}\"\n",
    "          .format(accuracy_score(y_train, y_trapred), accuracy_score(y_test, y_tespred)))\n",
    "\n",
    "    return vc, y_tespred, y_trapred\n",
    "\n",
    "vc, y_tespred, y_trapred = vote()"
   ]
  },
  {
   "cell_type": "code",
   "execution_count": 83,
   "metadata": {},
   "outputs": [
    {
     "name": "stdout",
     "output_type": "stream",
     "text": [
      "              precision    recall  f1-score   support\n",
      "\n",
      "           1       1.00      1.00      1.00        30\n",
      "           2       1.00      1.00      1.00        15\n",
      "           3       1.00      1.00      1.00        12\n",
      "           4       1.00      1.00      1.00         4\n",
      "           5       0.00      0.00      0.00         3\n",
      "           6       1.00      1.00      1.00        21\n",
      "           7       0.00      0.00      0.00         3\n",
      "           8       1.00      0.92      0.96        13\n",
      "           9       0.00      0.00      0.00         3\n",
      "          10       0.76      1.00      0.86        31\n",
      "\n",
      "    accuracy                           0.93       135\n",
      "   macro avg       0.68      0.69      0.68       135\n",
      "weighted avg       0.88      0.93      0.90       135\n",
      "\n"
     ]
    }
   ],
   "source": [
    "print(classification_report(y_train, y_trapred))"
   ]
  },
  {
   "cell_type": "code",
   "execution_count": 84,
   "metadata": {},
   "outputs": [
    {
     "name": "stdout",
     "output_type": "stream",
     "text": [
      "              precision    recall  f1-score   support\n",
      "\n",
      "           1       0.62      0.77      0.69        13\n",
      "           2       0.86      1.00      0.92         6\n",
      "           3       1.00      0.20      0.33         5\n",
      "           4       0.00      0.00      0.00         2\n",
      "           5       0.00      0.00      0.00         1\n",
      "           6       0.50      0.56      0.53         9\n",
      "           7       0.00      0.00      0.00         1\n",
      "           8       1.00      0.83      0.91         6\n",
      "           9       0.00      0.00      0.00         1\n",
      "          10       0.63      0.86      0.73        14\n",
      "\n",
      "    accuracy                           0.67        58\n",
      "   macro avg       0.46      0.42      0.41        58\n",
      "weighted avg       0.65      0.67      0.63        58\n",
      "\n"
     ]
    }
   ],
   "source": [
    "print(classification_report(y_test, y_tespred))"
   ]
  },
  {
   "cell_type": "code",
   "execution_count": 85,
   "metadata": {},
   "outputs": [
    {
     "data": {
      "text/plain": [
       "<matplotlib.axes._subplots.AxesSubplot at 0x2d0c8918e80>"
      ]
     },
     "execution_count": 85,
     "metadata": {},
     "output_type": "execute_result"
    },
    {
     "data": {
      "image/png": "[encoded data removed]",
      "text/plain": [
       "<Figure size 432x288 with 2 Axes>"
      ]
     },
     "metadata": {
      "needs_background": "light"
     },
     "output_type": "display_data"
    }
   ],
   "source": [
    "confo = confusion_matrix(y_test, y_tespred)\n",
    "sns.heatmap(conf, annot=True, fmt=\"d\", cmap=\"PuRd\")"
   ]
  },
  {
   "cell_type": "code",
   "execution_count": 86,
   "metadata": {},
   "outputs": [
    {
     "data": {
      "text/plain": [
       "Text(0.5, 0, 'Ground Truth')"
      ]
     },
     "execution_count": 86,
     "metadata": {},
     "output_type": "execute_result"
    },
    {
     "data": {
      "image/png": "[encoded data removed]",
      "text/plain": [
       "<Figure size 432x288 with 1 Axes>"
      ]
     },
     "metadata": {
      "needs_background": "light"
     },
     "output_type": "display_data"
    }
   ],
   "source": [
    "plt.scatter(y_test, y_tespred, alpha=.5, color=\"m\")\n",
    "plt.title(\"Language multiclass classfication\", fontsize=13, color=\"m\", fontweight=\"bold\")\n",
    "plt.ylabel(\"Prediction\", color=\"m\")\n",
    "plt.xlabel(\"Ground Truth\", color=\"m\")"
   ]
  },
  {
   "cell_type": "markdown",
   "metadata": {},
   "source": [
    "This model is not performing any better than the Logistic Regression and Decision Tree classifiers. Lastly, we will proceed with all the stacked classifier by stacking the above estimators with a final classifier."
   ]
  },
  {
   "cell_type": "markdown",
   "metadata": {},
   "source": [
    "### Stacked Classifier"
   ]
  },
  {
   "cell_type": "markdown",
   "metadata": {
    "scrolled": true
   },
   "source": [
    "Stacking allows the strength of individual estimator and use their output as input of a final estimator. We will see if the performance improves."
   ]
  },
  {
   "cell_type": "code",
   "execution_count": 100,
   "metadata": {},
   "outputs": [
    {
     "name": "stdout",
     "output_type": "stream",
     "text": [
      "accuracy-train: 0.829630 \n",
      "accuracy-test: 0.741379\n",
      "precision-train: 0.757670 \n",
      "precision-test: 0.615972\n",
      "recall-train: 0.829630 \n",
      "recall-test: 0.741379\n",
      "f1-train: 0.788192 \n",
      "f1-test: 0.671364\n"
     ]
    }
   ],
   "source": [
    "def stack():\n",
    "    #Since the results of all the three models are overfitting, we will use a regularized model, ridgeclassifier as the final estimator \n",
    "    ridge = RidgeClassifier(alpha=1) #Initiate ridge classifier, it is a penalized linear regression model but can also be used for classification\n",
    "    estimators = [(\"DTC\", bc),(\"LR\", VC), (\"SVC\", vc)]\n",
    "    sc = StackingClassifier(estimators=estimators, final_estimator=ridge).fit(X_train, y_train)\n",
    "    ytrpred = sc.predict(X_train)\n",
    "    ytepred = sc.predict(X_test)\n",
    "    print(\"accuracy-train: {:.6f} \\naccuracy-test: {:.6f}\"\n",
    "          .format(accuracy_score(y_train, ytrpred), accuracy_score(y_test, ytepred)))\n",
    "    print(\"precision-train: {:.6f} \\nprecision-test: {:.6f}\"\n",
    "          .format(precision_score(y_train, ytrpred, average=\"weighted\"), precision_score(y_test, ytepred, average=\"weighted\")))\n",
    "    print(\"recall-train: {:.6f} \\nrecall-test: {:.6f}\"\n",
    "          .format(recall_score(y_train, ytrpred, average=\"weighted\"), recall_score(y_test, ytepred, average=\"weighted\")))\n",
    "    print(\"f1-train: {:.6f} \\nf1-test: {:.6f}\"\n",
    "          .format(f1_score(y_train, ytrpred, average=\"weighted\"), f1_score(y_test, ytepred, average=\"weighted\")))\n",
    "    \n",
    "    return sc\n",
    "\n",
    "sc = stack()"
   ]
  },
  {
   "cell_type": "markdown",
   "metadata": {},
   "source": [
    "Now we are going to do cross-validation and compare the result across all the models."
   ]
  },
  {
   "cell_type": "code",
   "execution_count": 102,
   "metadata": {
    "scrolled": false
   },
   "outputs": [
    {
     "name": "stdout",
     "output_type": "stream",
     "text": [
      "Cross Validation:\n",
      "\n",
      "Bagging [0.53846154 0.61538462 0.58974359 0.55263158 0.60526316]\n",
      "Mean Accuracy: 0.58 (+/- 0.03)\n",
      "\n",
      "VC: LR and GBC [0.58974359 0.58974359 0.58974359 0.60526316 0.52631579]\n",
      "Mean Accuracy: 0.58 (+/- 0.03)\n",
      "\n",
      "VC: SVC and XGB [0.51282051 0.58974359 0.58974359 0.65789474 0.57894737]\n",
      "Mean Accuracy: 0.59 (+/- 0.05)\n",
      "\n",
      "Stacking Classifier [0.64102564 0.61538462 0.74358974 0.63157895 0.55263158]\n",
      "Mean Accuracy: 0.64 (+/- 0.06)\n",
      "\n"
     ]
    }
   ],
   "source": [
    "def compare():\n",
    "    clf_cv_mean = [] \n",
    "    clf_cv_std = []\n",
    "    X, y = df1[fcols], df1[\"language\"]\n",
    "    label = [\"Bagging\", \"VC: LR and GBC\", \"VC: SVC and XGB\", \"Stacking Classifier\"]   \n",
    "    list = [bc, VC, vc, sc]  #list of classifier to compute cv score\n",
    "    \n",
    "    print(\"Cross Validation:\\n\")\n",
    "    for clf, label in zip(list, label):         \n",
    "        \n",
    "        scs = cross_val_score(clf, X, y, cv=StratifiedKFold(5, shuffle=True), scoring=\"accuracy\")\n",
    "        print(\"{} {}\".format(label, scs))\n",
    "        print(\"Mean Accuracy: {:.2f} (+/- {:.2f})\\n\".format(scs.mean(), scs.std()))\n",
    "        clf_cv_mean.append(scs.mean())   #append mean cv score to list\n",
    "        clf_cv_std.append(scs.std())     #append cv s.d score to list\n",
    "   \n",
    "compare()"
   ]
  },
  {
   "cell_type": "markdown",
   "metadata": {},
   "source": [
    "The last model performs slightly better than the rest of the models."
   ]
  }
 ],
 "metadata": {
  "kernelspec": {
   "display_name": "Python 3",
   "language": "python",
   "name": "python3"
  },
  "language_info": {
   "codemirror_mode": {
    "name": "ipython",
    "version": 3
   },
   "file_extension": ".py",
   "mimetype": "text/x-python",
   "name": "python",
   "nbconvert_exporter": "python",
   "pygments_lexer": "ipython3",
   "version": "3.7.3"
  }
 },
 "nbformat": 4,
 "nbformat_minor": 4
}
